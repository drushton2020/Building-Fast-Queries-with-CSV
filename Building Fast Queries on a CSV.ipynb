{
 "cells": [
  {
   "cell_type": "markdown",
   "metadata": {},
   "source": [
    "# Building Fast Queries on a CSV\n",
    "\n",
    "Dataset: https://www.kaggle.com/ionaskel/laptop-prices\n",
    "\n",
    "Background:\n",
    "\n",
    "* Take the perspective as the owner of an online laptop store\n",
    "* Want to build a way to answer business questions about inventory\n",
    "Objectives:\n",
    "\n",
    "* Create a class that represents our inventory.\n",
    "* Methods in that class will implement the queries to answer questions about inventory\n",
    "* Pre-process the inventory data to make queries run faster\n",
    "Queries to Answer:\n",
    "\n",
    "* Given a laptop ID, find the corresponding data\n",
    "* Given an amount of money, find whether there are two laptops whose total price is that given amount\n",
    "* Identify all laptops whose price falls within a given budget\n",
    "\n",
    "## Reading the Inventory\n",
    "1. Use the csv module to read the 'laptops.csv' file\n",
    "2. Separate the header row\n",
    "3. Separate the remaining rows"
   ]
  },
  {
   "cell_type": "code",
   "execution_count": 1,
   "metadata": {
    "scrolled": true
   },
   "outputs": [
    {
     "name": "stdout",
     "output_type": "stream",
     "text": [
      "['Id', 'Company', 'Product', 'TypeName', 'Inches', 'ScreenResolution', 'Cpu', 'Ram', 'Memory', 'Gpu', 'OpSys', 'Weight', 'Price']\n",
      " \n"
     ]
    },
    {
     "data": {
      "text/plain": [
       "[['6571244',\n",
       "  'Apple',\n",
       "  'MacBook Pro',\n",
       "  'Ultrabook',\n",
       "  '13.3',\n",
       "  'IPS Panel Retina Display 2560x1600',\n",
       "  'Intel Core i5 2.3GHz',\n",
       "  '8GB',\n",
       "  '128GB SSD',\n",
       "  'Intel Iris Plus Graphics 640',\n",
       "  'macOS',\n",
       "  '1.37kg',\n",
       "  '1339'],\n",
       " ['7287764',\n",
       "  'Apple',\n",
       "  'Macbook Air',\n",
       "  'Ultrabook',\n",
       "  '13.3',\n",
       "  '1440x900',\n",
       "  'Intel Core i5 1.8GHz',\n",
       "  '8GB',\n",
       "  '128GB Flash Storage',\n",
       "  'Intel HD Graphics 6000',\n",
       "  'macOS',\n",
       "  '1.34kg',\n",
       "  '898']]"
      ]
     },
     "execution_count": 1,
     "metadata": {},
     "output_type": "execute_result"
    }
   ],
   "source": [
    "import csv                          # Opened \"laptops.csv\" and converted it to list of lists\n",
    "\n",
    "with open('laptops.csv') as laps:\n",
    "    read = csv.reader(laps)\n",
    "    file = list(read)\n",
    "    header = file[0]\n",
    "    rows = file[1:]\n",
    "    \n",
    "print(header)\n",
    "print(\" \")\n",
    "\n",
    "rows[:2]\n",
    "    "
   ]
  },
  {
   "cell_type": "markdown",
   "metadata": {},
   "source": [
    "## Created a Inventory Class"
   ]
  },
  {
   "cell_type": "code",
   "execution_count": 2,
   "metadata": {},
   "outputs": [
    {
     "name": "stdout",
     "output_type": "stream",
     "text": [
      "['Id', 'Company', 'Product', 'TypeName', 'Inches', 'ScreenResolution', 'Cpu', 'Ram', 'Memory', 'Gpu', 'OpSys', 'Weight', 'Price']\n"
     ]
    },
    {
     "data": {
      "text/plain": [
       "1303"
      ]
     },
     "execution_count": 2,
     "metadata": {},
     "output_type": "execute_result"
    }
   ],
   "source": [
    "# 1st version of Inventory class\n",
    "# Opens the csv file and reads the rows\n",
    "\n",
    "class Inventory():\n",
    "    \n",
    "   def __init__(self, csv_filename):\n",
    "        \n",
    "       with open(csv_filename) as f:\n",
    "           reader = csv.reader(f)\n",
    "           file = list(reader)\n",
    "       self.header = file[0]\n",
    "       self.rows = file[1:]\n",
    "       for rows in self.rows:\n",
    "           rows[-1] = int(rows[-1])\n",
    "\n",
    "\n",
    "inventory = Inventory('laptops.csv') \n",
    "print(inventory.header)\n",
    "len(inventory.rows)"
   ]
  },
  {
   "cell_type": "markdown",
   "metadata": {},
   "source": [
    "## Updated Inventory Class to Look-up Laptop ID (1st Update)"
   ]
  },
  {
   "cell_type": "code",
   "execution_count": 3,
   "metadata": {},
   "outputs": [
    {
     "name": "stdout",
     "output_type": "stream",
     "text": [
      "['3362737', 'HP', '250 G6', 'Notebook', '15.6', 'Full HD 1920x1080', 'Intel Core i5 7200U 2.5GHz', '8GB', '256GB SSD', 'Intel HD Graphics 620', 'No OS', '1.86kg', 575]\n",
      "None\n"
     ]
    }
   ],
   "source": [
    "# 2nd version of Inventory Class \n",
    "\n",
    "class Inventory():\n",
    "    \n",
    "   def __init__(self, csv_filename):\n",
    "        \n",
    "       with open(csv_filename) as f:\n",
    "           reader = csv.reader(f)\n",
    "           file = list(reader)\n",
    "       self.header = file[0]\n",
    "       self.rows = file[1:]\n",
    "       for rows in self.rows:\n",
    "           rows[-1] = int(rows[-1])\n",
    "\n",
    "# Created a method to look up Laptop IDs             \n",
    "            \n",
    "   def get_laptop_from_id(self, laptop_id):    \n",
    "       for rows in self.rows:\n",
    "            if rows[0] == laptop_id:\n",
    "                return rows\n",
    "       return None\n",
    "        \n",
    "inventory = Inventory(\"laptops.csv\")\n",
    "print(inventory.get_laptop_from_id('3362737'))\n",
    "print(inventory.get_laptop_from_id('3362736'))\n",
    "\n",
    "# Business Example: Customer comes to store with receipt for laptop, we can quickly find the laptop and all details with ID"
   ]
  },
  {
   "cell_type": "markdown",
   "metadata": {},
   "source": [
    "## 2nd Update for Inventory Class - ID Look-Up Method Time Complexity Improvement \n",
    "\n",
    "* Improved the time complexity by pre-processing the data into dictionary. "
   ]
  },
  {
   "cell_type": "code",
   "execution_count": 4,
   "metadata": {},
   "outputs": [
    {
     "name": "stdout",
     "output_type": "stream",
     "text": [
      "['3362737', 'HP', '250 G6', 'Notebook', '15.6', 'Full HD 1920x1080', 'Intel Core i5 7200U 2.5GHz', '8GB', '256GB SSD', 'Intel HD Graphics 620', 'No OS', '1.86kg', 575]\n",
      "None\n"
     ]
    }
   ],
   "source": [
    "# 3rd version of Inventory Class\n",
    "# Added to the __init__() method, pre-processed the data into a dictionary, with the ID as a key\n",
    "# Then created a get_laptop_from_id_fast() method, resulting in a faster search method\n",
    "\n",
    "class Inventory():\n",
    "    \n",
    "   def __init__(self, csv_filename):\n",
    "        \n",
    "       with open(csv_filename) as f:\n",
    "           reader = csv.reader(f)\n",
    "           file = list(reader)\n",
    "       self.header = file[0]\n",
    "       self.rows = file[1:]\n",
    "       for rows in self.rows:\n",
    "           rows[-1] = int(rows[-1])\n",
    "            \n",
    "# Code below pre-processes the data into a dictionary (ID was the key)\n",
    "            \n",
    "       self.id_to_row = {}\n",
    "       for rows in self.rows:\n",
    "            self.id_to_row[rows[0]] = rows\n",
    "            \n",
    "   def get_laptop_from_id(self, laptop_id):\n",
    "       for rows in self.rows:\n",
    "            if rows[0] == laptop_id:\n",
    "                return rows\n",
    "       return None\n",
    "\n",
    "# This resulted in a faster search method, time complexity went from O(R) to O(1) \n",
    "\n",
    "   def get_laptop_from_id_fast(self, laptop_id):\n",
    "       if laptop_id in self.id_to_row:\n",
    "            return self.id_to_row[laptop_id]\n",
    "       return None\n",
    "\n",
    "inventory = Inventory(\"laptops.csv\")\n",
    "print(inventory.get_laptop_from_id_fast('3362737'))\n",
    "print(inventory.get_laptop_from_id_fast('3362736'))            "
   ]
  },
  {
   "cell_type": "markdown",
   "metadata": {},
   "source": [
    "## Measuring performance of the two ID Look-Up Methods"
   ]
  },
  {
   "cell_type": "code",
   "execution_count": 5,
   "metadata": {},
   "outputs": [
    {
     "name": "stdout",
     "output_type": "stream",
     "text": [
      "0.7326846122741699 0.003718852996826172\n"
     ]
    }
   ],
   "source": [
    "# Measurement of the execution times of each Loop-Up Methods\n",
    "\n",
    "import time\n",
    "import random\n",
    "\n",
    "ids = [str(random.randint(1000000, 9999999)) for _ in range(10000)]\n",
    "\n",
    "inventory = Inventory(\"laptops.csv\")\n",
    "\n",
    "# time measurement with no dictionary\n",
    "\n",
    "total_time_no_dict = 0 \n",
    "for identifier in ids:\n",
    "    start = time.time()\n",
    "    inventory.get_laptop_from_id(identifier)\n",
    "    end = time.time()\n",
    "    total_time_no_dict += end - start\n",
    "\n",
    "# time measurement with dictionary    \n",
    "    \n",
    "total_time_dict = 0\n",
    "for identifier in ids:\n",
    "    start = time.time()\n",
    "    inventory.get_laptop_from_id_fast(identifier)\n",
    "    end = time.time()\n",
    "    total_time_dict += end - start\n",
    "    \n",
    "print(total_time_no_dict, total_time_dict)"
   ]
  },
  {
   "cell_type": "markdown",
   "metadata": {},
   "source": [
    "Dividing the first method by the second shows that improving the time complexity of the method caused the performance of the method to run 226 times faster."
   ]
  },
  {
   "cell_type": "markdown",
   "metadata": {},
   "source": [
    "## 3rd Update Inventory Class - Laptop Promotion Look-Up"
   ]
  },
  {
   "cell_type": "code",
   "execution_count": 6,
   "metadata": {},
   "outputs": [
    {
     "name": "stdout",
     "output_type": "stream",
     "text": [
      "True\n",
      "False\n"
     ]
    }
   ],
   "source": [
    "# 3rd version of Inventory Class \n",
    "# Added check_promotion_dollars() Method - checks if customer can buy 1 or 2 laptops with given dollar amount. \n",
    "\n",
    "class Inventory():\n",
    "    \n",
    "   def __init__(self, csv_filename):\n",
    "        \n",
    "       with open(csv_filename) as f:\n",
    "           reader = csv.reader(f)\n",
    "           file = list(reader)\n",
    "       self.header = file[0]\n",
    "       self.rows = file[1:]\n",
    "       for rows in self.rows:\n",
    "           rows[-1] = int(rows[-1])\n",
    "       self.id_to_row = {}\n",
    "       for rows in self.rows:\n",
    "            self.id_to_row[rows[0]] = rows\n",
    "            \n",
    "   def get_laptop_from_id(self, laptop_id):\n",
    "       for rows in self.rows:\n",
    "            if rows[0] == laptop_id:\n",
    "                return rows\n",
    "       return None\n",
    "\n",
    "  \n",
    "   def get_laptop_from_id_fast(self, laptop_id):\n",
    "       if laptop_id in self.id_to_row:\n",
    "            return self.id_to_row[laptop_id]\n",
    "       return None\n",
    "\n",
    "# Method added below, Can customer buy up to two laptops, given dollar amount\n",
    "   \n",
    "   def check_promotion_dollars(self, dollars):\n",
    "       for rows in self.rows:\n",
    "            if rows[-1] == dollars:\n",
    "                return True\n",
    "       for rows1 in self.rows:\n",
    "            for rows2 in self.rows:\n",
    "                if rows1[-1] + rows2[-1] == dollars:\n",
    "                    return True\n",
    "       return False\n",
    "\n",
    "inventory = Inventory('laptops.csv')\n",
    "print(inventory.check_promotion_dollars(1000))\n",
    "print(inventory.check_promotion_dollars(442))            "
   ]
  },
  {
   "cell_type": "markdown",
   "metadata": {},
   "source": [
    "## 4th Update Inventory Class - Improving Time Complexity for Laptop Promotion Look-Up"
   ]
  },
  {
   "cell_type": "code",
   "execution_count": 7,
   "metadata": {},
   "outputs": [
    {
     "name": "stdout",
     "output_type": "stream",
     "text": [
      "True\n",
      "False\n"
     ]
    }
   ],
   "source": [
    "# 4th Version of Inventory Class \n",
    "# Added a faster version of check_promotion_dollars Method by pre-processing the data using the set() function in the __init__() method\n",
    "\n",
    "class Inventory():\n",
    "    \n",
    "   def __init__(self, csv_filename):\n",
    "        \n",
    "       with open(csv_filename) as f:\n",
    "           reader = csv.reader(f)\n",
    "           file = list(reader)\n",
    "       self.header = file[0]\n",
    "       self.rows = file[1:]\n",
    "       for rows in self.rows:\n",
    "           rows[-1] = int(rows[-1])\n",
    "       self.id_to_row = {}\n",
    "       for rows in self.rows:\n",
    "            self.id_to_row[rows[0]] = rows\n",
    "       self.prices = set()\n",
    "       for rows in self.rows:\n",
    "            self.prices.add(rows[-1])\n",
    "            \n",
    "   def get_laptop_from_id(self, laptop_id):\n",
    "       for rows in self.rows:\n",
    "            if rows[0] == laptop_id:\n",
    "                return rows\n",
    "       return None\n",
    "\n",
    "  \n",
    "   def get_laptop_from_id_fast(self, laptop_id):\n",
    "       if laptop_id in self.id_to_row:\n",
    "            return self.id_to_row[laptop_id]\n",
    "       return None\n",
    "\n",
    "   \n",
    "   def check_promotion_dollars(self, dollars):\n",
    "       for rows in self.rows:\n",
    "            if rows[-1] == dollars:\n",
    "                return True\n",
    "       for rows1 in self.rows:\n",
    "            for rows2 in self.rows:\n",
    "                if rows1[-1] + rows2[-1] == dollars:\n",
    "                    return True\n",
    "       return False\n",
    "\n",
    "\n",
    "# Improved method for checking if customer can purchase laptop/s with dollar amount\n",
    "\n",
    "   def check_promotion_dollars_fast(self, dollars):\n",
    "       if dollars in self.prices:\n",
    "            return True\n",
    "       for price in self.prices:\n",
    "            if dollars - price in self.prices:\n",
    "                return True\n",
    "       return False\n",
    "\n",
    "inventory = Inventory('laptops.csv')\n",
    "print(inventory.check_promotion_dollars_fast(1000))\n",
    "print(inventory.check_promotion_dollars_fast(442))"
   ]
  },
  {
   "cell_type": "markdown",
   "metadata": {},
   "source": [
    "## Measuring Performance of two Laptop Promotion Look-Up Methods"
   ]
  },
  {
   "cell_type": "code",
   "execution_count": 8,
   "metadata": {},
   "outputs": [
    {
     "name": "stdout",
     "output_type": "stream",
     "text": [
      "15.278456449508667 0.004851102828979492\n"
     ]
    }
   ],
   "source": [
    "# Similar way of measuring the previous methods was used. \n",
    "\n",
    "prices = [random.randint(100, 500) for _ in range(100)]\n",
    "\n",
    "inventory = Inventory(\"laptops.csv\")\n",
    "\n",
    "total_time_no_set = 0\n",
    "for p in prices:\n",
    "    start = time.time()\n",
    "    inventory.check_promotion_dollars(p)\n",
    "    end = time.time()\n",
    "    total_time_no_set += end - start\n",
    "    \n",
    "total_time_set = 0\n",
    "for p in prices:\n",
    "    start = time.time()\n",
    "    inventory.check_promotion_dollars_fast(p)\n",
    "    end = time.time()\n",
    "    total_time_set += end - start\n",
    "    \n",
    "print(total_time_no_set, total_time_set)\n"
   ]
  },
  {
   "cell_type": "markdown",
   "metadata": {},
   "source": [
    "It is clear that pre-processing the data with the set() function improved the time complexity. "
   ]
  },
  {
   "cell_type": "markdown",
   "metadata": {},
   "source": [
    "## 5th Update Inventory Class - Find Laptops Within Customers Budget\n",
    "\n",
    "1. add sorting of Inventory rows by laptop price when instantiating an Inventory class object\n",
    "2. add binary search method\n",
    "3. add another binary search method with improved time complexity"
   ]
  },
  {
   "cell_type": "code",
   "execution_count": 9,
   "metadata": {},
   "outputs": [
    {
     "name": "stdout",
     "output_type": "stream",
     "text": [
      "683\n",
      "-1\n"
     ]
    }
   ],
   "source": [
    "# 5th version of Inventory class\n",
    "# help customer find all laptops given budget of D dollars\n",
    "# in other words, write method to answer query: Given budget, find all laptops\n",
    "\n",
    "# sort all laptops by price to then use binary search to find\n",
    "# first laptop in the sorted list with a price larger than D\n",
    "\n",
    "def row_price(row):\n",
    "    return row[-1]\n",
    "\n",
    "class Inventory():\n",
    "    \n",
    "   def __init__(self, csv_filename):\n",
    "        \n",
    "       with open(csv_filename) as f:\n",
    "           reader = csv.reader(f)\n",
    "           file = list(reader)\n",
    "       self.header = file[0]\n",
    "       self.rows = file[1:]\n",
    "       for rows in self.rows:\n",
    "           rows[-1] = int(rows[-1])\n",
    "       self.id_to_row = {}\n",
    "       for rows in self.rows:\n",
    "            self.id_to_row[rows[0]] = rows\n",
    "       self.prices = set()\n",
    "       for rows in self.rows:\n",
    "            self.prices.add(rows[-1])\n",
    "       self.rows_by_price = sorted(self.rows, key=row_price)   # Added \n",
    "            \n",
    "   def get_laptop_from_id(self, laptop_id):\n",
    "       for rows in self.rows:\n",
    "            if rows[0] == laptop_id:\n",
    "                return rows\n",
    "       return None\n",
    "\n",
    "  \n",
    "   def get_laptop_from_id_fast(self, laptop_id):\n",
    "       if laptop_id in self.id_to_row:\n",
    "            return self.id_to_row[laptop_id]\n",
    "       return None\n",
    "\n",
    "   \n",
    "   def check_promotion_dollars(self, dollars):\n",
    "       for rows in self.rows:\n",
    "            if rows[-1] == dollars:\n",
    "                return True\n",
    "       for rows1 in self.rows:\n",
    "            for rows2 in self.rows:\n",
    "                if rows1[-1] + rows2[-1] == dollars:\n",
    "                    return True\n",
    "       return False\n",
    "\n",
    "   \n",
    "   def check_promotion_dollars_fast(self, dollars):\n",
    "       if dollars in self.prices:\n",
    "            return True\n",
    "       for price in self.prices:\n",
    "            if dollars - price in self.prices:\n",
    "                return True\n",
    "       return False\n",
    "\n",
    "   \n",
    "   def find_laptop_with_price(self, target_price):\n",
    "       range_start = 0                                   \n",
    "       range_end = len(self.rows_by_price) - 1                       \n",
    "       while range_start < range_end:\n",
    "            range_middle = (range_end + range_start) // 2  \n",
    "            value = self.rows_by_price[range_middle][-1]\n",
    "            if value == target_price:                            \n",
    "                return range_middle                        \n",
    "            elif value < target_price:                           \n",
    "                range_start = range_middle + 1             \n",
    "            else:                                          \n",
    "                range_end = range_middle - 1 \n",
    "       if self.rows_by_price[range_start][-1] != target_price:                  \n",
    "            return -1                                      \n",
    "       return range_start\n",
    "\n",
    "\n",
    "# FINAL Binary Search Algorithm \n",
    "\n",
    "   def find_first_laptop_more_expensive(self, target_price):\n",
    "       range_start = 0 \n",
    "       range_end = len(self.rows_by_price) - 1                   \n",
    "       while range_start < range_end:\n",
    "            range_middle = (range_end + range_start) // 2  \n",
    "            price = self.rows_by_price[range_middle][-1]\n",
    "            if price > target_price:\n",
    "                range_end = range_middle\n",
    "            else:\n",
    "                range_start = range_middle + 1\n",
    "       if self.rows_by_price[range_start][-1] <= target_price:                  \n",
    "            return -1                                   \n",
    "       return range_start\n",
    "\n",
    "inventory = Inventory(\"laptops.csv\")\n",
    "\n",
    "print(inventory.find_first_laptop_more_expensive(1000))\n",
    "print(inventory.find_first_laptop_more_expensive(10000)) "
   ]
  },
  {
   "cell_type": "markdown",
   "metadata": {},
   "source": [
    "## Conclusion\n",
    "\n",
    "In this project, three functionalities were created:\n",
    "\n",
    "1. Looking up laptops by their ID number\n",
    "2. Seeing how many laptops a customer could afford given their budget\n",
    "3. Determining the highest priced laptop at which the customer could not afford; determining all of the laptops within the customer's budget\n",
    "\n",
    "The three built-in Python modules used were: csv, time, and random\n",
    "\n",
    "In this project, data pre-processing was used to significantly improve the time efficiency of the methods."
   ]
  },
  {
   "cell_type": "code",
   "execution_count": null,
   "metadata": {},
   "outputs": [],
   "source": []
  }
 ],
 "metadata": {
  "kernelspec": {
   "display_name": "Python 3",
   "language": "python",
   "name": "python3"
  },
  "language_info": {
   "codemirror_mode": {
    "name": "ipython",
    "version": 3
   },
   "file_extension": ".py",
   "mimetype": "text/x-python",
   "name": "python",
   "nbconvert_exporter": "python",
   "pygments_lexer": "ipython3",
   "version": "3.8.2"
  }
 },
 "nbformat": 4,
 "nbformat_minor": 2
}
